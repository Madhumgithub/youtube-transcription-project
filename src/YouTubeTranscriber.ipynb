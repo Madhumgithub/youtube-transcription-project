{
 "cells": [
  {
   "cell_type": "code",
   "execution_count": 2,
   "id": "a88d550b-5771-4cb8-898a-1bc635e198b4",
   "metadata": {},
   "outputs": [],
   "source": [
    "import os\n",
    "import re\n",
    "import speech_recognition as sr\n",
    "from moviepy.video.io.VideoFileClip import VideoFileClip\n",
    "from pydub import AudioSegment\n",
    "from pydub.silence import split_on_silence"
   ]
  },
  {
   "cell_type": "code",
   "execution_count": 3,
   "id": "7dacc9b4-4641-4479-86f3-997617f817ec",
   "metadata": {},
   "outputs": [],
   "source": [
    "def detect_silence(audio, silence_thresh=-80, min_silence_len=500):\n",
    "    silence_segments = []\n",
    "    non_silence_segments = split_on_silence(\n",
    "        audio, silence_thresh=silence_thresh, min_silence_len=min_silence_len)\n",
    "    start_time = 0\n",
    "\n",
    "    for segment in non_silence_segments:\n",
    "        end_time = start_time + segment.duration_seconds\n",
    "        silence_segments.append((start_time, end_time))\n",
    "        start_time = end_time\n",
    "\n",
    "    return silence_segments"
   ]
  },
  {
   "cell_type": "code",
   "execution_count": 5,
   "id": "4596a2a3-4c12-470a-84a1-253254df5cbe",
   "metadata": {},
   "outputs": [
    {
     "name": "stdout",
     "output_type": "stream",
     "text": [
      "Starting transcription...\n",
      "Extracting audio from video...\n",
      "MoviePy - Writing audio in output.wav\n"
     ]
    },
    {
     "name": "stderr",
     "output_type": "stream",
     "text": [
      "                                                                                                                       \r"
     ]
    },
    {
     "name": "stdout",
     "output_type": "stream",
     "text": [
      "MoviePy - Done.\n",
      "Audio file saved to: output.wav\n",
      "Loading audio file...\n",
      "Detected silence segments: [(0, 326.428), (326.428, 329.765), (329.765, 331.568), (331.568, 335.534), (335.534, 337.84999999999997), (337.84999999999997, 340.207), (340.207, 341.693), (341.693, 343.078), (343.078, 345.37899999999996), (345.37899999999996, 347.51599999999996), (347.51599999999996, 349.655), (349.655, 350.628), (350.628, 352.178), (352.178, 353.099), (353.099, 355.149), (355.149, 357.83), (357.83, 359.231), (359.231, 361.028), (361.028, 364.677), (364.677, 368.96000000000004), (368.96000000000004, 370.973), (370.973, 372.447), (372.447, 374.574), (374.574, 378.584), (378.584, 380.85), (380.85, 384.87), (384.87, 386.996), (386.996, 389.251), (389.251, 390.286), (390.286, 392.162), (392.162, 395.68699999999995), (395.68699999999995, 405.13199999999995), (405.13199999999995, 418.37199999999996), (418.37199999999996, 430.97299999999996), (430.97299999999996, 446.57399999999996), (446.57399999999996, 458.94399999999996), (458.94399999999996, 463.56399999999996)]\n",
      "Transcribing audio...\n",
      "Transcription successful!\n",
      "Transcript: hello everyone in this English episode we will be focusing on English conversation listening to English conversation is an essential part of improving your English language skills it can help you improve your listening speaking and comprehension skills in this video if I ask you a question do you like village or city life you can comment what you like and now we will be talking about this let's start hi how are you doing today I am doing well thank you how about you I am good too so I was thinking about the differences between village life and city life what do you think about it interesting topic what about you well I have lived in both village and city and I think both have their pros and cons what does it mean advantages and disadvantages for example in the village people are more friendly and helpful but the facilities are not as advanced as in the city with you in the city there are more opportunities for education employment and entertainment crowded and polluted absolutely I think it depends on the individuals priorities and Lifestyle for example if someone wants to have a quiet and simple life the village is a better option but if someone wants to have a fast paste and dynamic life the city is a better option in the village people have closer relationships to support independent yes that's true but on the other hand in the city there is more diversity and exposure to different cultures which can brought in one perspective so overall I think village and city life have their own marriage exactly it's all about personal preferences and priorities but it's always good to have a balance between the two is possible to experience both ways of life and appreciate the differences how are you doing how about you I am doing well to hey I was thinking of getting a pet from my house what do you think why not working I understand your concerns but I think having a pet can be really rewarding to take can be great companions and help reduce stress concern but I think with proper training and care pets can be well behaved do not cause too much trouble yeah I was thinking of getting a dog I love her loyal in affectionate taken by friend lot of attention and exercise do you have the time and energy to take care of you have a pretty flexible schedule so I think I can make it work plus I think it will be good motivation for me to get more active too I guess it's ultimately up to you just make sure you do your research and consider all the factors before making a decision thanks for your important I appreciate your honesty and concern let me know if you need any more how are you doing not so good actually down did you have a fight with your girlfriend broke up last night I can't believe I don't even know what to do I thought you I just feel so lost right now she admitted to cheating my head around for yourself support to speak English many ways to improve English speaking skills in English to improve your English speaking skills to use them your own voice control in English pronunciation\n",
      "Generating transcription with timestamps...\n",
      "Transcription saved to: Transcripted_Text.txt\n"
     ]
    }
   ],
   "source": [
    "def transcribe_video(video_path):\n",
    "    print(\"Starting transcription...\")\n",
    "    \n",
    "    # Extract audio from the video\n",
    "    print(\"Extracting audio from video...\")\n",
    "    video_clip = VideoFileClip(video_path)\n",
    "    audio_clip = video_clip.audio\n",
    "    audio_path = \"output.wav\"\n",
    "    \n",
    "    audio_clip.write_audiofile(audio_path)\n",
    "\n",
    "    # Check if audio file was created\n",
    "    if not os.path.exists(audio_path) or os.path.getsize(audio_path) == 0:\n",
    "        print(\"Audio extraction failed or the audio file is empty!\")\n",
    "        return\n",
    "    print(f\"Audio file saved to: {audio_path}\")\n",
    "\n",
    "    # Load audio with pydub\n",
    "    print(\"Loading audio file...\")\n",
    "    audio = AudioSegment.from_wav(audio_path)\n",
    "    \n",
    "    # Convert to mono and set frame rate\n",
    "    audio = audio.set_channels(1).set_frame_rate(16000)\n",
    "    audio.export(audio_path, format=\"wav\")  # Export modified audio\n",
    "\n",
    "    silence_segments = detect_silence(audio, silence_thresh=-80, min_silence_len=500)\n",
    "    print(\"Detected silence segments:\", silence_segments)\n",
    "\n",
    "    # Initialize the recognizer\n",
    "    recognizer = sr.Recognizer()\n",
    "\n",
    "    # Transcribe the audio\n",
    "    try:\n",
    "        print(\"Transcribing audio...\")\n",
    "        with sr.AudioFile(audio_path) as source:\n",
    "            audio_data = recognizer.record(source)\n",
    "            transcript = recognizer.recognize_google(audio_data)\n",
    "            print(\"Transcription successful!\")\n",
    "            print(\"Transcript:\", transcript)\n",
    "    except sr.UnknownValueError:\n",
    "        print(\"Google Speech Recognition could not understand the audio.\")\n",
    "        return\n",
    "    except sr.RequestError as e:\n",
    "        print(f\"Could not request results from Google Speech Recognition service; {e}\")\n",
    "        return\n",
    "    except Exception as e:\n",
    "        print(f\"An unexpected error occurred during transcription: {e}\")\n",
    "        return\n",
    "\n",
    "    # Generate the transcription text with timestamps\n",
    "    print(\"Generating transcription with timestamps...\")\n",
    "    transcription_with_timestamps = []\n",
    "    cumulative_duration = 0.0\n",
    "\n",
    "    for i, sentence in enumerate(transcript.split('.')):\n",
    "        if i < len(silence_segments):\n",
    "            start_time, end_time = silence_segments[i]\n",
    "            timestamp = (start_time + end_time) / 2000.0  # Convert to seconds\n",
    "        else:\n",
    "            timestamp = cumulative_duration + audio.duration_seconds / 1000.0\n",
    "\n",
    "        timestamp_str = f\"{timestamp:.3f}\"\n",
    "        transcription_with_timestamps.append(f\"[{timestamp_str}] Speaker: {sentence.strip()}\")\n",
    "\n",
    "    # Save the transcription to a text file\n",
    "    output_file_path = \"Transcripted_Text.txt\"\n",
    "    with open(output_file_path, 'w') as file:\n",
    "        file.write('\\n'.join(transcription_with_timestamps))\n",
    "\n",
    "    print(f\"Transcription saved to: {output_file_path}\")\n",
    "\n",
    "# Call the function\n",
    "video_path = \"C:\\\\Users\\\\Madhu\\\\audio1.mp4\"\n",
    "transcribe_video(video_path)\n"
   ]
  },
  {
   "cell_type": "code",
   "execution_count": null,
   "id": "7a75900c-67f8-4fe4-8ff8-4028631f845d",
   "metadata": {},
   "outputs": [],
   "source": []
  }
 ],
 "metadata": {
  "kernelspec": {
   "display_name": "Python 3 (ipykernel)",
   "language": "python",
   "name": "python3"
  },
  "language_info": {
   "codemirror_mode": {
    "name": "ipython",
    "version": 3
   },
   "file_extension": ".py",
   "mimetype": "text/x-python",
   "name": "python",
   "nbconvert_exporter": "python",
   "pygments_lexer": "ipython3",
   "version": "3.12.6"
  }
 },
 "nbformat": 4,
 "nbformat_minor": 5
}
